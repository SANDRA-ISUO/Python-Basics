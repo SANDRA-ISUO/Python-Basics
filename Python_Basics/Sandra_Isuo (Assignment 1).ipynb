{
 "cells": [
  {
   "cell_type": "code",
   "execution_count": 3,
   "id": "0f06e3a5",
   "metadata": {},
   "outputs": [
    {
     "name": "stdout",
     "output_type": "stream",
     "text": [
      "Sandra\n"
     ]
    }
   ],
   "source": [
    "name = \"Sandra\"\n",
    "print (name)"
   ]
  },
  {
   "cell_type": "code",
   "execution_count": 10,
   "id": "e9f3f501",
   "metadata": {},
   "outputs": [
    {
     "name": "stdout",
     "output_type": "stream",
     "text": [
      "39.6\n"
     ]
    }
   ],
   "source": [
    "A= 'area of rectangle'\n",
    "width = float(5.5)\n",
    "height = float(7.2)\n",
    "area = (width * height)\n",
    "print (area)"
   ]
  },
  {
   "cell_type": "code",
   "execution_count": 13,
   "id": "afc91dfb",
   "metadata": {},
   "outputs": [
    {
     "data": {
      "text/plain": [
       "'Today is a wonderful day'"
      ]
     },
     "execution_count": 13,
     "metadata": {},
     "output_type": "execute_result"
    }
   ],
   "source": [
    "s = 'sentence'\n",
    "sentence = \"Today is a wonderful day\"\n",
    "sentence\n",
    "\n"
   ]
  },
  {
   "cell_type": "code",
   "execution_count": null,
   "id": "bd22e86f",
   "metadata": {},
   "outputs": [],
   "source": []
  },
  {
   "cell_type": "code",
   "execution_count": 1,
   "id": "08d43821",
   "metadata": {},
   "outputs": [
    {
     "data": {
      "text/plain": [
       "['Apple', 'Pineaple', 'Orange', 'Cucumber', 'Watermelon']"
      ]
     },
     "execution_count": 1,
     "metadata": {},
     "output_type": "execute_result"
    }
   ],
   "source": [
    "favourite_fruits = ('Apple','Pineaple','Orange','Cucumber','Watermelon')\n",
    "\n",
    "list(favourite_fruits)\n"
   ]
  },
  {
   "cell_type": "code",
   "execution_count": 2,
   "id": "82036098",
   "metadata": {},
   "outputs": [
    {
     "ename": "NameError",
     "evalue": "name 'favourite_fruit' is not defined",
     "output_type": "error",
     "traceback": [
      "\u001b[1;31m---------------------------------------------------------------------------\u001b[0m",
      "\u001b[1;31mNameError\u001b[0m                                 Traceback (most recent call last)",
      "Cell \u001b[1;32mIn[2], line 2\u001b[0m\n\u001b[0;32m      1\u001b[0m favourite_fruits \u001b[38;5;241m=\u001b[39m (\u001b[38;5;124m'\u001b[39m\u001b[38;5;124mApple\u001b[39m\u001b[38;5;124m'\u001b[39m,\u001b[38;5;124m'\u001b[39m\u001b[38;5;124mPineaple\u001b[39m\u001b[38;5;124m'\u001b[39m,\u001b[38;5;124m'\u001b[39m\u001b[38;5;124mOrange\u001b[39m\u001b[38;5;124m'\u001b[39m,\u001b[38;5;124m'\u001b[39m\u001b[38;5;124mCucumber\u001b[39m\u001b[38;5;124m'\u001b[39m,\u001b[38;5;124m'\u001b[39m\u001b[38;5;124mWatermelon\u001b[39m\u001b[38;5;124m'\u001b[39m)\n\u001b[1;32m----> 2\u001b[0m favourite_fruit\u001b[38;5;241m.\u001b[39mappend(\u001b[38;5;124m'\u001b[39m\u001b[38;5;124mmango\u001b[39m\u001b[38;5;124m'\u001b[39m)\n\u001b[0;32m      3\u001b[0m \u001b[38;5;28mprint\u001b[39m(favourite_fruit)\n",
      "\u001b[1;31mNameError\u001b[0m: name 'favourite_fruit' is not defined"
     ]
    }
   ],
   "source": [
    "favourite_fruits = ('Apple','Pineaple','Orange','Cucumber','Watermelon')\n",
    "favourite_fruit.append('mango')\n",
    "print(favourite_fruit)\n"
   ]
  },
  {
   "cell_type": "code",
   "execution_count": 3,
   "id": "8d0698d0",
   "metadata": {},
   "outputs": [
    {
     "ename": "AttributeError",
     "evalue": "type object 'list' has no attribute 'drop'",
     "output_type": "error",
     "traceback": [
      "\u001b[1;31m---------------------------------------------------------------------------\u001b[0m",
      "\u001b[1;31mAttributeError\u001b[0m                            Traceback (most recent call last)",
      "Cell \u001b[1;32mIn[3], line 1\u001b[0m\n\u001b[1;32m----> 1\u001b[0m \u001b[38;5;28mlist\u001b[39m\u001b[38;5;241m.\u001b[39mdrop()\n",
      "\u001b[1;31mAttributeError\u001b[0m: type object 'list' has no attribute 'drop'"
     ]
    }
   ],
   "source": [
    "list.drop()"
   ]
  },
  {
   "cell_type": "code",
   "execution_count": null,
   "id": "3794a3ca",
   "metadata": {},
   "outputs": [],
   "source": [
    "append(favourite_fruit)"
   ]
  },
  {
   "cell_type": "code",
   "execution_count": 29,
   "id": "8a0801fb",
   "metadata": {},
   "outputs": [
    {
     "name": "stdout",
     "output_type": "stream",
     "text": [
      "sum of all elements in a given list: 2\n",
      "sum of all elements in a given list: 6\n",
      "sum of all elements in a given list: 11\n",
      "sum of all elements in a given list: 18\n",
      "sum of all elements in a given list: 26\n",
      "sum of all elements in a given list: 35\n"
     ]
    }
   ],
   "source": [
    "total = 0\n",
    "my_list = [2,4,5,7,8,9]\n",
    "for hel in range (0, len(my_list)):\n",
    "    total = total + my_list[hel]\n",
    "    print('sum of all elements in a given list:', total)\n"
   ]
  },
  {
   "cell_type": "code",
   "execution_count": 33,
   "id": "3eceb68b",
   "metadata": {
    "collapsed": true
   },
   "outputs": [
    {
     "ename": "IndentationError",
     "evalue": "expected an indented block after 'for' statement on line 2 (3376533550.py, line 3)",
     "output_type": "error",
     "traceback": [
      "\u001b[1;36m  Cell \u001b[1;32mIn[33], line 3\u001b[1;36m\u001b[0m\n\u001b[1;33m    print (line)\u001b[0m\n\u001b[1;37m    ^\u001b[0m\n\u001b[1;31mIndentationError\u001b[0m\u001b[1;31m:\u001b[0m expected an indented block after 'for' statement on line 2\n"
     ]
    }
   ],
   "source": [
    "list_0f_numbers[1,2,3,4,5,6,7,8,9,10]\n",
    "for  line,list_of_numbers in enumerate(list_0f_numbers,1):\n",
    "print (line)\n"
   ]
  },
  {
   "cell_type": "code",
   "execution_count": null,
   "id": "5a351c1b",
   "metadata": {},
   "outputs": [],
   "source": [
    "#Tuples"
   ]
  },
  {
   "cell_type": "code",
   "execution_count": 37,
   "id": "c87fe317",
   "metadata": {},
   "outputs": [
    {
     "name": "stdout",
     "output_type": "stream",
     "text": [
      "red\n",
      "blue\n",
      "purple\n"
     ]
    }
   ],
   "source": [
    "colours =('red','blue','purple')\n",
    "\n",
    "print (colours[0])\n",
    "print (colours[1])\n",
    "print (colours[2])\n",
    "\n"
   ]
  },
  {
   "cell_type": "code",
   "execution_count": 38,
   "id": "30b95aba",
   "metadata": {},
   "outputs": [
    {
     "ename": "TypeError",
     "evalue": "'tuple' object does not support item assignment",
     "output_type": "error",
     "traceback": [
      "\u001b[1;31m---------------------------------------------------------------------------\u001b[0m",
      "\u001b[1;31mTypeError\u001b[0m                                 Traceback (most recent call last)",
      "Cell \u001b[1;32mIn[38], line 1\u001b[0m\n\u001b[1;32m----> 1\u001b[0m colours[\u001b[38;5;241m0\u001b[39m] \u001b[38;5;241m=\u001b[39m \u001b[38;5;124m'\u001b[39m\u001b[38;5;124mgreen\u001b[39m\u001b[38;5;124m'\u001b[39m\n",
      "\u001b[1;31mTypeError\u001b[0m: 'tuple' object does not support item assignment"
     ]
    }
   ],
   "source": [
    "#It results in an error\n",
    "colours[0] = 'green'"
   ]
  },
  {
   "cell_type": "code",
   "execution_count": 39,
   "id": "e911d906",
   "metadata": {},
   "outputs": [
    {
     "name": "stdout",
     "output_type": "stream",
     "text": [
      "The Bible\n",
      "There was a country\n",
      "The Refiners fire\n"
     ]
    }
   ],
   "source": [
    "my_favourite_books = ('The Bible', 'There was a country','The Refiners fire')\n",
    "print(my_favourite_books[0])\n",
    "print(my_favourite_books[1])\n",
    "print(my_favourite_books[2])"
   ]
  },
  {
   "cell_type": "code",
   "execution_count": 42,
   "id": "75cd0697",
   "metadata": {},
   "outputs": [
    {
     "name": "stdout",
     "output_type": "stream",
     "text": [
      "['red', 'blue', 'purple']\n"
     ]
    }
   ],
   "source": [
    "my_tuple= ('red','blue','purple')\n",
    "my_list = list(my_tuple)\n",
    "print(my_list)"
   ]
  },
  {
   "cell_type": "code",
   "execution_count": 44,
   "id": "631445fb",
   "metadata": {
    "collapsed": true
   },
   "outputs": [
    {
     "ename": "SyntaxError",
     "evalue": "invalid syntax. Perhaps you forgot a comma? (3405297127.py, line 1)",
     "output_type": "error",
     "traceback": [
      "\u001b[1;36m  Cell \u001b[1;32mIn[44], line 1\u001b[1;36m\u001b[0m\n\u001b[1;33m    my_tuple(my list):\u001b[0m\n\u001b[1;37m             ^\u001b[0m\n\u001b[1;31mSyntaxError\u001b[0m\u001b[1;31m:\u001b[0m invalid syntax. Perhaps you forgot a comma?\n"
     ]
    }
   ],
   "source": [
    "my_tuple(my list):\n",
    "print(my_tuple)"
   ]
  },
  {
   "cell_type": "code",
   "execution_count": null,
   "id": "651f3534",
   "metadata": {},
   "outputs": [],
   "source": [
    "#Python Operators"
   ]
  },
  {
   "cell_type": "code",
   "execution_count": null,
   "id": "d47f1335",
   "metadata": {},
   "outputs": [],
   "source": [
    "radius = int()\n",
    "area = float()\n",
    "pi = float(3.14159)\n",
    "calculate = "
   ]
  },
  {
   "cell_type": "code",
   "execution_count": 47,
   "id": "581eae0f",
   "metadata": {},
   "outputs": [
    {
     "name": "stdout",
     "output_type": "stream",
     "text": [
      "input the radius of the circle: 15\n",
      "the area of the circle with radius15.0is:706.85775\n"
     ]
    }
   ],
   "source": [
    "\n",
    "radius = int()\n",
    "area = float()\n",
    "pi = float(3.14159)\n",
    "r = float(input('input the radius of the circle: '))\n",
    "print ('the area of the circle with radius' + str(r) + 'is:' + str(pi *r**2))"
   ]
  },
  {
   "cell_type": "code",
   "execution_count": 56,
   "id": "0bb0bda9",
   "metadata": {},
   "outputs": [
    {
     "name": "stdout",
     "output_type": "stream",
     "text": [
      "2\n",
      "2\n",
      "<built-in function pow>\n"
     ]
    }
   ],
   "source": [
    "x = int(input())\n",
    "y = int(input())\n",
    "pow(x, y)\n",
    "print(pow)"
   ]
  },
  {
   "cell_type": "code",
   "execution_count": null,
   "id": "d8c93dd1",
   "metadata": {},
   "outputs": [],
   "source": [
    "num= int(input('enter a number'))\n",
    "if (num% 2) == 0:\n",
    "    print ('the provided number is even')\n",
    "else: \n",
    "     print('the provided number is odd')\n",
    "        "
   ]
  },
  {
   "cell_type": "code",
   "execution_count": null,
   "id": "35170103",
   "metadata": {},
   "outputs": [],
   "source": [
    "\n",
    "    q =n//m\n",
    "    print('quotient:',q)"
   ]
  },
  {
   "cell_type": "raw",
   "id": "b7b8edb4",
   "metadata": {},
   "source": [
    "r = n%m \n",
    "    print('remainder', r)\n",
    "        "
   ]
  },
  {
   "cell_type": "code",
   "execution_count": null,
   "id": "ad351255",
   "metadata": {},
   "outputs": [],
   "source": []
  }
 ],
 "metadata": {
  "kernelspec": {
   "display_name": "Python 3 (ipykernel)",
   "language": "python",
   "name": "python3"
  },
  "language_info": {
   "codemirror_mode": {
    "name": "ipython",
    "version": 3
   },
   "file_extension": ".py",
   "mimetype": "text/x-python",
   "name": "python",
   "nbconvert_exporter": "python",
   "pygments_lexer": "ipython3",
   "version": "3.11.4"
  }
 },
 "nbformat": 4,
 "nbformat_minor": 5
}
