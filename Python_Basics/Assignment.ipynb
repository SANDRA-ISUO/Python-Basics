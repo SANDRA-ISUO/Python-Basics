{
 "cells": [
  {
   "cell_type": "markdown",
   "id": "003fa06d",
   "metadata": {},
   "source": [
    "# ASSIGNMENT wk1\n",
    "\n",
    "**Variables and Data Types:**\n",
    "\n",
    "1. Create a variable called `name` and assign your name to it. Print the value of the `name` variable.\n",
    "2. Calculate the area of a rectangle with a width of 5.5 units and a height of 7.2 units. Store the result in a variable and print it.\n",
    "3. Create a string variable called `sentence` and assign it a sentence of your choice. \n",
    "\n",
    "**Lists and List Operations:**\n",
    "\n",
    "6. Create a list of your favorite fruits. Print the list.\n",
    "7. Add a new fruit to the list from question 6. Print the updated list.\n",
    "8. Remove a fruit from the list created in question 6. Print the updated list.\n",
    "9. Write a program that takes a list of numbers as input and calculates the sum of all the numbers in the list.\n",
    "10. Create a list of numbers from 1 to 10 using a loop. Print the list.\n",
    "\n",
    "**Tuples:**\n",
    "\n",
    "11. Define a tuple called `colors` that contains the names of three different colors. Print the tuple.\n",
    "12. Try to change the value of one of the colors in the tuple. What happens? Explain.\n",
    "13. Create a tuple of your favorite books. Print the tuple.\n",
    "14. Write a program that converts tuple to a list, print the new list and also convert it back to tuple.\n",
    "\n",
    "**Python Operators:**\n",
    "\n",
    "15. Write a Python program that calculates the area of a circle. Prompt the user for the radius and use the value of π (pi) as 3.14159.\n",
    "16. Create two variables, `x` and `y`, and assign them values. Calculate and print the result of `x` to the power of `y`.\n",
    "17. Write a program that checks if a given number is even or odd and prints an appropriate message.\n",
    "18. Calculate the quotient and remainder when dividing 145 by 7. Print both results."
   ]
  },
  {
   "cell_type": "code",
   "execution_count": null,
   "id": "cb28ffa1",
   "metadata": {},
   "outputs": [],
   "source": []
  }
 ],
 "metadata": {
  "kernelspec": {
   "display_name": "Python 3 (ipykernel)",
   "language": "python",
   "name": "python3"
  },
  "language_info": {
   "codemirror_mode": {
    "name": "ipython",
    "version": 3
   },
   "file_extension": ".py",
   "mimetype": "text/x-python",
   "name": "python",
   "nbconvert_exporter": "python",
   "pygments_lexer": "ipython3",
   "version": "3.9.13"
  }
 },
 "nbformat": 4,
 "nbformat_minor": 5
}
